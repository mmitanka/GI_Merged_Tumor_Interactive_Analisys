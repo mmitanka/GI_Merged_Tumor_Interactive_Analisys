{
 "cells": [
  {
   "cell_type": "markdown",
   "id": "c8adf8c6-7c25-489d-bacb-25fe528c70e0",
   "metadata": {},
   "source": [
    "Exercise 2 : Merged breast cancer CGC interactive analisys"
   ]
  },
  {
   "cell_type": "markdown",
   "id": "aadd3ec9-6067-429d-b8ad-81d8cca8659c",
   "metadata": {},
   "source": [
    "First install pysam lib"
   ]
  },
  {
   "cell_type": "code",
   "execution_count": 1,
   "id": "849ef6d9-0e8e-4d1e-9793-07831d3562f6",
   "metadata": {},
   "outputs": [
    {
     "name": "stdout",
     "output_type": "stream",
     "text": [
      "Collecting pysam\n",
      "  Downloading pysam-0.20.0-cp39-cp39-manylinux_2_24_x86_64.whl (15.6 MB)\n",
      "\u001b[K     |████████████████████████████████| 15.6 MB 27.6 MB/s eta 0:00:01\n",
      "\u001b[?25hInstalling collected packages: pysam\n",
      "Successfully installed pysam-0.20.0\n"
     ]
    }
   ],
   "source": [
    "!python -m pip install pysam"
   ]
  },
  {
   "cell_type": "markdown",
   "id": "7cb2a3e0-dfde-4122-ba10-fc0a92e53d07",
   "metadata": {},
   "source": [
    "Then import pysam lib and open BAM file"
   ]
  },
  {
   "cell_type": "code",
   "execution_count": 57,
   "id": "beac9424-fce3-4e9e-9683-73815075c2f5",
   "metadata": {},
   "outputs": [
    {
     "data": {
      "text/plain": [
       "0"
      ]
     },
     "execution_count": 57,
     "metadata": {},
     "output_type": "execute_result"
    }
   ],
   "source": [
    "import pysam\n",
    "save = pysam.set_verbosity(0)\n",
    "bamFile = pysam.AlignmentFile('../project-files/merged-tumor.bam','rb')\n",
    "indexBamFile = '../project-files/merged-tumor.bam.bai'\n",
    "pysam.set_verbosity(save)"
   ]
  },
  {
   "cell_type": "markdown",
   "id": "eb30d626-3c76-4493-adaf-b8e08edd9587",
   "metadata": {},
   "source": [
    "Take first read"
   ]
  },
  {
   "cell_type": "code",
   "execution_count": 58,
   "id": "128b2c81-fde7-4df6-9315-a95a1f03f62c",
   "metadata": {},
   "outputs": [
    {
     "name": "stdout",
     "output_type": "stream",
     "text": [
      "First read:  C0HVYACXX120402:7:1207:5722:57044\t1187\t#20\t9483249\t27\t76M\t#20\t9483382\t209\tTTTTCAAACAGTATCTATGCCTGCCAAATGTGAACATATAAAAAAAAACCAGAATGTGCCATTCTGATTTAAACTG\tarray('B', [28, 28, 27, 29, 31, 30, 31, 31, 29, 31, 35, 30, 29, 31, 34, 30, 29, 23, 41, 32, 20, 30, 29, 34, 34, 29, 30, 31, 30, 30, 30, 33, 33, 26, 39, 12, 25, 19, 32, 30, 35, 28, 35, 33, 23, 33, 35, 36, 30, 38, 33, 41, 34, 35, 31, 33, 23, 30, 30, 36, 27, 32, 29, 34, 35, 41, 33, 31, 33, 29, 32, 32, 31, 31, 31, 34])\t[('XA', 'GL000217.1,-110754,76M,1;'), ('BD', 'NNNNNNNNNNNNNNNNNNNNNNNNNNNNNNNNNNNNNNNNNNNNNNNNNNNNNNNNNNNNNNNNNNNNNNNNNNNN'), ('MD', '76'), ('RG', '1'), ('BI', 'NNNNNNNNNNNNNNNNNNNNNNNNNNNNNNNNNNNNNNNNNNNNNNNNNNNNNNNNNNNNNNNNNNNNNNNNNNNN'), ('NM', 0), ('MQ', 27), ('AS', 76), ('XS', 71)]\n",
      "\n",
      "First read flag:  1187\n"
     ]
    }
   ],
   "source": [
    "for read in bamFile.head(1):\n",
    "    firstRead = read\n",
    "\n",
    "print(\"First read: \", firstRead)\n",
    "print(\"\\nFirst read flag: \", firstRead.flag)"
   ]
  },
  {
   "cell_type": "markdown",
   "id": "73c50e10-a7f0-4016-a5ac-e209012056e3",
   "metadata": {},
   "source": [
    "Calculate number of unmapped reads, total number of reads, reads with mapping quality 0, average mapping quality for all reads and"
   ]
  },
  {
   "cell_type": "code",
   "execution_count": 54,
   "id": "14405b01-735a-4698-810e-bf8adde32c90",
   "metadata": {},
   "outputs": [
    {
     "name": "stdout",
     "output_type": "stream",
     "text": [
      "Number of unmapped reads:  17765\n",
      "Total number of reads in bam file 2921629\n",
      "Number of reads with mapping quality 0:  126628\n",
      "Average mapping quality for all reads:  55.91\n",
      "Average mapping quality without reads with mapping quality 0:  58.45\n"
     ]
    }
   ],
   "source": [
    "bamFile = pysam.AlignmentFile('../project-files/merged-tumor.bam','rb')\n",
    "\n",
    "unmappedReads = 0\n",
    "totalNumberOfReads = 0\n",
    "numberOfReadsMappingQZero = 0\n",
    "mappingQualitySum = 0\n",
    "\n",
    "for read in bamFile:\n",
    "    totalNumberOfReads += 1\n",
    "    mappingQualitySum += read.mapping_quality\n",
    "    \n",
    "    if read.is_unmapped:\n",
    "        unmappedReads += 1\n",
    "    if read.mapping_quality == 0:\n",
    "        numberOfReadsMappingQZero += 1    \n",
    "\n",
    "        \n",
    "averageMappingQuality = round(mappingQualitySum/totalNumberOfReads, 2)\n",
    "averageMappingQualityWithoutReadsWithMappingQZero = round(mappingQualitySum/(totalNumberOfReads - numberOfReadsMappingQZero), 2)\n",
    "\n",
    "print(\"Number of unmapped reads: \", unmappedReads)\n",
    "print(\"Total number of reads in bam file\", totalNumberOfReads)\n",
    "print(\"Number of reads with mapping quality 0: \", numberOfReadsMappingQZero)\n",
    "print(\"Average mapping quality for all reads: \", averageMappingQuality)\n",
    "print(\"Average mapping quality without reads with mapping quality 0: \", averageMappingQualityWithoutReadsWithMappingQZero)"
   ]
  },
  {
   "cell_type": "code",
   "execution_count": 55,
   "id": "820ddf8d-6e8b-4214-b4f5-240849422051",
   "metadata": {},
   "outputs": [],
   "source": [
    "bamFile.close()"
   ]
  }
 ],
 "metadata": {
  "kernelspec": {
   "display_name": "Python 3 (ipykernel)",
   "language": "python",
   "name": "python3"
  },
  "language_info": {
   "codemirror_mode": {
    "name": "ipython",
    "version": 3
   },
   "file_extension": ".py",
   "mimetype": "text/x-python",
   "name": "python",
   "nbconvert_exporter": "python",
   "pygments_lexer": "ipython3",
   "version": "3.9.6"
  }
 },
 "nbformat": 4,
 "nbformat_minor": 5
}
